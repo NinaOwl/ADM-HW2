{
 "cells": [
  {
   "cell_type": "code",
   "execution_count": 114,
   "id": "367968ae-7893-45a0-81d9-da43702c9925",
   "metadata": {},
   "outputs": [
    {
     "data": {
      "text/plain": [
       "'1.21.2'"
      ]
     },
     "execution_count": 114,
     "metadata": {},
     "output_type": "execute_result"
    }
   ],
   "source": [
    "import matplotlib.pyplot as plt\n",
    "import pandas as pd\n",
    "import numpy as np\n",
    "from datetime import datetime\n",
    "pd.__version__\n",
    "np.__version__"
   ]
  },
  {
   "cell_type": "code",
   "execution_count": 115,
   "id": "13002069-2fd9-4d74-99ef-f0c1b879dfc3",
   "metadata": {},
   "outputs": [],
   "source": [
    "dataset = pd.read_csv('./steam_reviews.csv', header =\"infer\", index_col=[0])"
   ]
  },
  {
   "cell_type": "markdown",
   "id": "7a48fd5a-7bcd-4646-878f-cac15b81af4e",
   "metadata": {},
   "source": [
    "# Research questions"
   ]
  },
  {
   "cell_type": "markdown",
   "id": "7e107ea4-b09b-4197-a6bc-d7d5d3756b60",
   "metadata": {},
   "source": [
    "### [RQ1] After collecting information, the Data Scientists have to know what dataset they are dealing with, so let's start with an Exploratory Data Analysis (EDA). What can you say about our dataset? Please summarize its main characteristics with visual and tabular methods."
   ]
  },
  {
   "cell_type": "markdown",
   "id": "53c52ce5-0e03-4e24-9351-49214f069560",
   "metadata": {},
   "source": [
    "#### 1. Let's have a look on data structure by printing first 5 rows"
   ]
  },
  {
   "cell_type": "code",
   "execution_count": 7,
   "id": "846e8350-957a-4b5a-b013-780d57de2488",
   "metadata": {
    "id": "be037a3e-6c69-4c07-bb6d-52e04ab8b23b"
   },
   "outputs": [
    {
     "name": "stdout",
     "output_type": "stream",
     "text": [
      "    app_id                  app_name  review_id  language  \\\n",
      "0   292030  The Witcher 3: Wild Hunt   85185598  schinese   \n",
      "1   292030  The Witcher 3: Wild Hunt   85185250  schinese   \n",
      "2   292030  The Witcher 3: Wild Hunt   85185111  schinese   \n",
      "3   292030  The Witcher 3: Wild Hunt   85184605   english   \n",
      "4   292030  The Witcher 3: Wild Hunt   85184287  schinese   \n",
      "5   292030  The Witcher 3: Wild Hunt   85184171   english   \n",
      "6   292030  The Witcher 3: Wild Hunt   85184064   english   \n",
      "7   292030  The Witcher 3: Wild Hunt   85183602   turkish   \n",
      "8   292030  The Witcher 3: Wild Hunt   85183227  schinese   \n",
      "9   292030  The Witcher 3: Wild Hunt   85182785   spanish   \n",
      "10  292030  The Witcher 3: Wild Hunt   85182697  schinese   \n",
      "11  292030  The Witcher 3: Wild Hunt   85182372   russian   \n",
      "12  292030  The Witcher 3: Wild Hunt   85182067  schinese   \n",
      "13  292030  The Witcher 3: Wild Hunt   85181146   russian   \n",
      "14  292030  The Witcher 3: Wild Hunt   85181114   koreana   \n",
      "15  292030  The Witcher 3: Wild Hunt   85180815     latam   \n",
      "16  292030  The Witcher 3: Wild Hunt   85180734  schinese   \n",
      "17  292030  The Witcher 3: Wild Hunt   85180438  schinese   \n",
      "18  292030  The Witcher 3: Wild Hunt   85180436   english   \n",
      "19  292030  The Witcher 3: Wild Hunt   85179968  schinese   \n",
      "\n",
      "                                               review  timestamp_created  \\\n",
      "0                             不玩此生遗憾，RPG游戏里的天花板，太吸引人了         1611381629   \n",
      "1                                  拔DIAO无情打桩机--杰洛特!!!         1611381030   \n",
      "2                                               巫师3NB         1611380800   \n",
      "3   One of the best RPG's of all time, worthy of a...         1611379970   \n",
      "4                                                  大作         1611379427   \n",
      "5              good story, good graphics. lots to do.         1611379264   \n",
      "6                                            dis gud,         1611379091   \n",
      "7                                                 .\\n         1611378312   \n",
      "8                                    年度最佳的作品，没啥好夸的，神作         1611377703   \n",
      "9                                          great game         1611377005   \n",
      "10                                             神作！不bb         1611376831   \n",
      "11  Шикарная игра с отличным сюжетом, неплохой гра...         1611376281   \n",
      "12  什么?你儿子失踪了?什么?这栋房子闹鬼?什么?你猜到我要玩\"来句昆特牌\"的梗?\\n抱歉这个梗...         1611375772   \n",
      "13  Замечательная карточная игра в антураже фэнтез...         1611374238   \n",
      "14                                              가성비 짱         1611374195   \n",
      "15  The witcher 3 es un gran juego RPG, permite gr...         1611373708   \n",
      "16                                 当你玩进去之后，一切都顺理成章了起来         1611373593   \n",
      "17                                           剑舞天下无敌！！         1611373087   \n",
      "18  favorite game of all time cant wait for the Ne...         1611373086   \n",
      "19                                                 打桩         1611372286   \n",
      "\n",
      "    timestamp_updated  recommended  votes_helpful  votes_funny  ...  \\\n",
      "0          1611381629         True              0            0  ...   \n",
      "1          1611381030         True              0            0  ...   \n",
      "2          1611380800         True              0            0  ...   \n",
      "3          1611379970         True              0            0  ...   \n",
      "4          1611379427         True              0            0  ...   \n",
      "5          1611379264         True              0            0  ...   \n",
      "6          1611379091         True              0            0  ...   \n",
      "7          1611378312         True              0            0  ...   \n",
      "8          1611377703         True              0            0  ...   \n",
      "9          1611377005         True              0            0  ...   \n",
      "10         1611376831         True              0            0  ...   \n",
      "11         1611376281         True              0            0  ...   \n",
      "12         1611375772         True              0            0  ...   \n",
      "13         1611374309         True              0            0  ...   \n",
      "14         1611374195         True              0            0  ...   \n",
      "15         1611373708         True              0            0  ...   \n",
      "16         1611373593         True              0            0  ...   \n",
      "17         1611373087         True              0            0  ...   \n",
      "18         1611373086         True              0            0  ...   \n",
      "19         1611372286         True              0            0  ...   \n",
      "\n",
      "    steam_purchase  received_for_free  written_during_early_access  \\\n",
      "0             True              False                        False   \n",
      "1             True              False                        False   \n",
      "2             True              False                        False   \n",
      "3             True              False                        False   \n",
      "4             True              False                        False   \n",
      "5             True              False                        False   \n",
      "6             True              False                        False   \n",
      "7             True              False                        False   \n",
      "8             True              False                        False   \n",
      "9             True              False                        False   \n",
      "10           False              False                        False   \n",
      "11            True              False                        False   \n",
      "12            True              False                        False   \n",
      "13            True              False                        False   \n",
      "14            True              False                        False   \n",
      "15            True              False                        False   \n",
      "16            True              False                        False   \n",
      "17           False              False                        False   \n",
      "18            True              False                        False   \n",
      "19           False              False                        False   \n",
      "\n",
      "       author.steamid  author.num_games_owned  author.num_reviews  \\\n",
      "0   76561199095369542                       6                   2   \n",
      "1   76561198949504115                      30                  10   \n",
      "2   76561199090098988                       5                   1   \n",
      "3   76561199054755373                       5                   3   \n",
      "4   76561199028326951                       7                   4   \n",
      "5   76561198170193529                      11                   1   \n",
      "6   76561198119302812                      27                   2   \n",
      "7   76561199084188849                       9                   1   \n",
      "8   76561198130808993                     581                  17   \n",
      "9   76561198301724112                      38                   5   \n",
      "10  76561199089209577                      29                   1   \n",
      "11  76561198257031328                      11                   2   \n",
      "12  76561198348941585                      20                   1   \n",
      "13  76561197987104694                     501                  23   \n",
      "14  76561199120263118                       1                   1   \n",
      "15  76561198301696591                       5                   1   \n",
      "16  76561198985671330                       9                   1   \n",
      "17  76561198149550625                      66                   7   \n",
      "18  76561198065591528                      33                   1   \n",
      "19  76561198249585974                      31                   5   \n",
      "\n",
      "    author.playtime_forever  author.playtime_last_two_weeks  \\\n",
      "0                    1909.0                          1448.0   \n",
      "1                    2764.0                          2743.0   \n",
      "2                    1061.0                          1061.0   \n",
      "3                    5587.0                          3200.0   \n",
      "4                     217.0                            42.0   \n",
      "5                     823.0                           823.0   \n",
      "6                    4192.0                          3398.0   \n",
      "7                    2701.0                             0.0   \n",
      "8                    6921.0                           222.0   \n",
      "9                    2399.0                           333.0   \n",
      "10                   5368.0                          1471.0   \n",
      "11                    508.0                           508.0   \n",
      "12                   6598.0                            29.0   \n",
      "13                   7310.0                             0.0   \n",
      "14                   3285.0                          3084.0   \n",
      "15                   3586.0                             0.0   \n",
      "16                   5483.0                          2184.0   \n",
      "17                   5442.0                          1643.0   \n",
      "18                  23329.0                           177.0   \n",
      "19                   2153.0                            46.0   \n",
      "\n",
      "    author.playtime_at_review  author.last_played  \n",
      "0                      1909.0        1.611343e+09  \n",
      "1                      2674.0        1.611386e+09  \n",
      "2                      1060.0        1.611384e+09  \n",
      "3                      5524.0        1.611384e+09  \n",
      "4                       217.0        1.610788e+09  \n",
      "5                       823.0        1.611379e+09  \n",
      "6                      4192.0        1.611352e+09  \n",
      "7                      2701.0        1.609671e+09  \n",
      "8                      6921.0        1.611317e+09  \n",
      "9                      2364.0        1.611379e+09  \n",
      "10                     5368.0        1.611372e+09  \n",
      "11                      348.0        1.611387e+09  \n",
      "12                     6598.0        1.610716e+09  \n",
      "13                     7310.0        1.525555e+09  \n",
      "14                     3205.0        1.611386e+09  \n",
      "15                     3586.0        1.609391e+09  \n",
      "16                     5483.0        1.611371e+09  \n",
      "17                     5396.0        1.611387e+09  \n",
      "18                    23329.0        1.611219e+09  \n",
      "19                     2153.0        1.611325e+09  \n",
      "\n",
      "[20 rows x 22 columns]\n"
     ]
    }
   ],
   "source": [
    "print(dataset.head(20))"
   ]
  },
  {
   "cell_type": "markdown",
   "id": "7007e52d-1e0c-4733-b9ca-6860f1a8604e",
   "metadata": {},
   "source": [
    "#### 2. Shape"
   ]
  },
  {
   "cell_type": "code",
   "execution_count": 8,
   "id": "58dfe404-a243-4f55-8c02-03f459f4bb76",
   "metadata": {},
   "outputs": [
    {
     "name": "stdout",
     "output_type": "stream",
     "text": [
      "Number of reviews (rows): 21747371 \n",
      " Number of columns: 22 \n",
      " Name of columns: app_id app_name review_id language review timestamp_created timestamp_updated recommended votes_helpful votes_funny weighted_vote_score comment_count steam_purchase received_for_free written_during_early_access author.steamid author.num_games_owned author.num_reviews author.playtime_forever author.playtime_last_two_weeks author.playtime_at_review author.last_played\n"
     ]
    }
   ],
   "source": [
    "print(\"Number of reviews (rows):\", dataset.shape[0], \"\\n Number of columns:\", dataset.shape[1], \"\\n Name of columns:\", *list(dataset.columns) )"
   ]
  },
  {
   "cell_type": "markdown",
   "id": "aa0c833f-3d0d-446b-8035-8624b90bafef",
   "metadata": {},
   "source": [
    "#### 3. Columns info "
   ]
  },
  {
   "cell_type": "code",
   "execution_count": 9,
   "id": "ffd1a63d-c42b-448b-b9c6-0922ecc00f04",
   "metadata": {},
   "outputs": [
    {
     "name": "stdout",
     "output_type": "stream",
     "text": [
      "                            column                 type_val  unique_count  \\\n",
      "0                           app_id    <class 'numpy.int64'>           315   \n",
      "1                         app_name            <class 'str'>           315   \n",
      "2                        review_id    <class 'numpy.int64'>      21612444   \n",
      "3                         language            <class 'str'>            28   \n",
      "4                           review            <class 'str'>      16657837   \n",
      "5                timestamp_created    <class 'numpy.int64'>      18932372   \n",
      "6                timestamp_updated    <class 'numpy.int64'>      18739831   \n",
      "7                      recommended    <class 'numpy.bool_'>             2   \n",
      "8                    votes_helpful    <class 'numpy.int64'>          2716   \n",
      "9                      votes_funny    <class 'numpy.int64'>          2215   \n",
      "10             weighted_vote_score  <class 'numpy.float64'>       1304322   \n",
      "11                   comment_count    <class 'numpy.int64'>           351   \n",
      "12                  steam_purchase    <class 'numpy.bool_'>             2   \n",
      "13               received_for_free    <class 'numpy.bool_'>             2   \n",
      "14     written_during_early_access    <class 'numpy.bool_'>             2   \n",
      "15                  author.steamid    <class 'numpy.int64'>      12406560   \n",
      "16          author.num_games_owned    <class 'numpy.int64'>          7097   \n",
      "17              author.num_reviews    <class 'numpy.int64'>           983   \n",
      "18         author.playtime_forever  <class 'numpy.float64'>        297891   \n",
      "19  author.playtime_last_two_weeks  <class 'numpy.float64'>         17261   \n",
      "20       author.playtime_at_review  <class 'numpy.float64'>        218306   \n",
      "21              author.last_played  <class 'numpy.float64'>      16009725   \n",
      "\n",
      "    None_count  \n",
      "0            0  \n",
      "1            0  \n",
      "2            0  \n",
      "3            0  \n",
      "4        33742  \n",
      "5            0  \n",
      "6            0  \n",
      "7            0  \n",
      "8            0  \n",
      "9            0  \n",
      "10           0  \n",
      "11           0  \n",
      "12           0  \n",
      "13           0  \n",
      "14           0  \n",
      "15           0  \n",
      "16           0  \n",
      "17           0  \n",
      "18           2  \n",
      "19           2  \n",
      "20       25682  \n",
      "21           2  \n"
     ]
    }
   ],
   "source": [
    "data = []\n",
    "for i in range(len(list(dataset.columns))):\n",
    "    c = list(dataset.columns)[i]\n",
    "    data.append([c, type(dataset[c][1]), dataset[c].nunique(), dataset.shape[0] - dataset[c].count()])\n",
    "df = pd.DataFrame(data=data, columns=[\"column\", \"type_val\", \"unique_count\", \"None_count\"])\n",
    "print(df)"
   ]
  },
  {
   "cell_type": "markdown",
   "id": "f2382e2d-517a-4a3d-b1f0-bd324ce461ff",
   "metadata": {},
   "source": [
    "#### As we see:\n",
    "1. The only columns that have None values are \"review\" and \"author.playtime_at_review\" and \"author.last_played\"\n",
    "2. There are 21747371 unique id_reviews, 9 app_ids and app_names, in 28 different languages"
   ]
  },
  {
   "cell_type": "markdown",
   "id": "5ad5215f-8b3d-4710-ac1b-f8aa9f1afc8a",
   "metadata": {},
   "source": [
    "### [RQ2] Let's explore the dataset by finding simple insights into the reviews.\n",
    "\n",
    "1. Plot the number of reviews for each application in descending order.\n",
    "2. What applications have the best Weighted Vote Score?\n",
    "3. Which applications have the most and the least recommendations?\n",
    "4. How many of these applications were purchased, and how many were given for free?"
   ]
  },
  {
   "cell_type": "markdown",
   "id": "95d4358d-006c-4069-b643-136db75b4dab",
   "metadata": {},
   "source": [
    "#### 1. Plot the number of reviews for each application in descending order."
   ]
  },
  {
   "cell_type": "code",
   "execution_count": 10,
   "id": "213ea9f5-7827-493e-8c03-e5ace7957bbc",
   "metadata": {
    "id": "1e296dbf-ff44-455d-a9f7-26eb257778ae"
   },
   "outputs": [
    {
     "name": "stdout",
     "output_type": "stream",
     "text": [
      "app_name\n",
      "PLAYERUNKNOWN'S BATTLEGROUNDS      1644255\n",
      "Grand Theft Auto V                 1019116\n",
      "Tom Clancy's Rainbow Six Siege      841918\n",
      "Terraria                            672815\n",
      "Garry's Mod                         655524\n",
      "                                    ...   \n",
      "Don't Escape: 4 Days to Survive       1013\n",
      "Shadow Complex Remastered              700\n",
      "Out of the Park Baseball 19            700\n",
      "DRAGON QUEST HEROES™ II                600\n",
      "Neon Hardcorps                         200\n",
      "Name: review_id, Length: 315, dtype: int64\n"
     ]
    },
    {
     "data": {
      "text/plain": [
       "<AxesSubplot:ylabel='Frequency'>"
      ]
     },
     "execution_count": 10,
     "metadata": {},
     "output_type": "execute_result"
    },
    {
     "data": {
      "image/png": "[encoded data removed]",
      "text/plain": [
       "<Figure size 432x288 with 1 Axes>"
      ]
     },
     "metadata": {
      "needs_background": "light"
     },
     "output_type": "display_data"
    }
   ],
   "source": [
    "c=dataset.groupby(['app_name']).review_id.count().sort_values(ascending=False)\n",
    "print(c)\n",
    "c.plot(kind='hist')"
   ]
  },
  {
   "cell_type": "code",
   "execution_count": 11,
   "id": "e9ecedfa",
   "metadata": {
    "id": "v2lmgjd_wGlh"
   },
   "outputs": [
    {
     "name": "stdout",
     "output_type": "stream",
     "text": [
      "The most reviewed game on steam is: PLAYERUNKNOWN'S BATTLEGROUNDS the least reviewed is:  Neon Hardcorps\n"
     ]
    }
   ],
   "source": [
    "print(f'The most reviewed game on steam is:', dataset.groupby(['app_name']).review_id.count().idxmax(), \"the least reviewed is: \", dataset.groupby(['app_name']).review_id.count().idxmin())"
   ]
  },
  {
   "cell_type": "markdown",
   "id": "2ca2500e-6125-448c-ae58-86588dbf66bf",
   "metadata": {},
   "source": [
    "#### 2. The applications that have the best Weighted Vote Score:"
   ]
  },
  {
   "cell_type": "code",
   "execution_count": 14,
   "id": "a721c361-7402-4d87-b5b2-5c80c423ced9",
   "metadata": {
    "id": "3dREYfGgwNd-"
   },
   "outputs": [
    {
     "name": "stdout",
     "output_type": "stream",
     "text": [
      "app_name\n",
      "Hunt Down The Freeman                0.502150\n",
      "Urban Empire                         0.438623\n",
      "METAL GEAR SURVIVE                   0.421632\n",
      "Identity                             0.415384\n",
      "Umbrella Corps                       0.414678\n",
      "                                       ...   \n",
      "There Is No Game: Wrong Dimension    0.086053\n",
      "Bloons TD 6                          0.084871\n",
      "People Playground                    0.083486\n",
      "Among Us                             0.078234\n",
      "Totally Accurate Battle Simulator    0.076889\n",
      "Name: weighted_vote_score, Length: 315, dtype: float64\n"
     ]
    }
   ],
   "source": [
    "print(dataset.groupby(['app_name'])['weighted_vote_score'].mean().sort_values(ascending=False))"
   ]
  },
  {
   "cell_type": "markdown",
   "id": "4cbbbf5c-9930-4daf-b056-ca2451ea04f5",
   "metadata": {
    "id": "INxhJo8rwN6k"
   },
   "source": [
    "This is mean of weighted vote score for each application"
   ]
  },
  {
   "cell_type": "code",
   "execution_count": 15,
   "id": "6f1250fb-4c5b-4352-b0e8-c22826c61fc9",
   "metadata": {},
   "outputs": [
    {
     "name": "stdout",
     "output_type": "stream",
     "text": [
      "The 1-st application that have the best Weighted Vote Score is: Hunt Down The Freeman\n"
     ]
    }
   ],
   "source": [
    "print(f'The 1-st application that have the best Weighted Vote Score is:', dataset.groupby(['app_name'])['weighted_vote_score'].mean().idxmax())"
   ]
  },
  {
   "cell_type": "markdown",
   "id": "7019d3b4-d43f-43b0-bc71-6cb6bb1f7170",
   "metadata": {},
   "source": [
    "#### 3. The applications that have the most and the least recommendations:"
   ]
  },
  {
   "cell_type": "code",
   "execution_count": 16,
   "id": "cd9b038d-33ec-4b1b-9b9e-d426bc0d3b04",
   "metadata": {},
   "outputs": [
    {
     "name": "stdout",
     "output_type": "stream",
     "text": [
      "The applications that have the most and the least recommendations are respectively PLAYERUNKNOWN'S BATTLEGROUNDS and Neon Hardcorps\n"
     ]
    }
   ],
   "source": [
    "most=dataset[dataset.recommended==True].groupby(['app_name']).recommended.value_counts().idxmax()[0]\n",
    "least=dataset[dataset.recommended==True].groupby(['app_name']).recommended.value_counts().idxmin()[0]\n",
    "print('The applications that have the most and the least recommendations are respectively', most, 'and', least)"
   ]
  },
  {
   "cell_type": "markdown",
   "id": "c40e7e7f-50b5-460f-a462-e7cd2833ccfc",
   "metadata": {},
   "source": [
    "#### 4. How many of these applications were purchased, and how many were given for free?"
   ]
  },
  {
   "cell_type": "code",
   "execution_count": 17,
   "id": "5c605d31-6261-4f0e-9b73-2f0b1cf0e1ba",
   "metadata": {},
   "outputs": [
    {
     "data": {
      "text/plain": [
       "app_name                               steam_purchase\n",
       "20XX                                   True                3204\n",
       "A Hat in Time                          True               27262\n",
       "A Short Hike                           True                4566\n",
       "A Way Out                              True                7416\n",
       "ARK: Survival Evolved                  True              316015\n",
       "                                                          ...  \n",
       "XCOM 2                                 True               42215\n",
       "Yakuza 0                               True               24643\n",
       "Youtubers Life                         True               11437\n",
       "theHunter: Call of the Wild™           True               55784\n",
       "三国群英传8 Heroes of the Three Kingdoms 8  True                7031\n",
       "Name: steam_purchase, Length: 313, dtype: int64"
      ]
     },
     "execution_count": 17,
     "metadata": {},
     "output_type": "execute_result"
    }
   ],
   "source": [
    "dataset[dataset.steam_purchase==True].groupby(['app_name']).steam_purchase.value_counts()"
   ]
  },
  {
   "cell_type": "markdown",
   "id": "d72b45a2-f706-4971-bbe3-5eb69bda55c6",
   "metadata": {},
   "source": [
    "For each application how many times has been purchased"
   ]
  },
  {
   "cell_type": "code",
   "execution_count": 18,
   "id": "2a2e7a6b-70fe-4612-a303-69b0987911d1",
   "metadata": {},
   "outputs": [
    {
     "data": {
      "text/plain": [
       "app_name                               received_for_free\n",
       "20XX                                   True                    51\n",
       "A Hat in Time                          True                   820\n",
       "A Short Hike                           True                    99\n",
       "A Way Out                              True                   296\n",
       "ARK: Survival Evolved                  True                 12046\n",
       "                                                            ...  \n",
       "XCOM 2                                 True                  1254\n",
       "Yakuza 0                               True                   466\n",
       "Youtubers Life                         True                   544\n",
       "theHunter: Call of the Wild™           True                  2163\n",
       "三国群英传8 Heroes of the Three Kingdoms 8  True                    65\n",
       "Name: received_for_free, Length: 315, dtype: int64"
      ]
     },
     "execution_count": 18,
     "metadata": {},
     "output_type": "execute_result"
    }
   ],
   "source": [
    "dataset[dataset.received_for_free==True].groupby(['app_name']).received_for_free.value_counts()"
   ]
  },
  {
   "cell_type": "markdown",
   "id": "2033cef8",
   "metadata": {},
   "source": [
    "For each application how many times has been received for free"
   ]
  },
  {
   "cell_type": "markdown",
   "id": "15859f77-0a43-4a8f-a162-5849fc460e29",
   "metadata": {},
   "source": [
    "### [RQ3] Now it's important to understand the preferred time to do reviews.\n",
    "\n",
    "1. What is the most common time that authors review an application? For example, authors usually write a review at 17:44.\n",
    "2. Create a function that receives as a parameter a list of time intervals and returns the plot the number of reviews for each of the intervals.\n",
    "3. Use the function that you created in the previous literal to plot the number of reviews between the following time intervals:\n",
    "\n",
    "    Initial time | Final time\n",
    "    ------------ |:----------:\n",
    "    06:00:00     |  10:59:59\n",
    "    11:00:00     |  13:59:59\n",
    "    14:00:00     |  16:59:59\n",
    "    17:00:00     |  19:59:59\n",
    "    20:00:00     |  23:59:59\n",
    "    00:00:00     |  02:59:59\n",
    "    03:00:00     |  05:59:59\n"
   ]
  },
  {
   "cell_type": "code",
   "execution_count": 19,
   "id": "eaca6b6b-101f-4ebe-8c0f-9c58261b72c8",
   "metadata": {},
   "outputs": [],
   "source": [
    "def dateparse(time_in_secs):\n",
    "    return pd.to_datetime(time_in_secs, unit='s')"
   ]
  },
  {
   "cell_type": "code",
   "execution_count": 20,
   "id": "16cbb8fd-c651-4f27-9a07-6402081f8ce9",
   "metadata": {},
   "outputs": [],
   "source": [
    "dataset1 = pd.read_csv('./steam_reviews.csv', parse_dates=['timestamp_created', 'timestamp_updated', 'author.last_played'], date_parser=dateparse)\n",
    "#converted the dataset columns into datetime"
   ]
  },
  {
   "cell_type": "code",
   "execution_count": 21,
   "id": "48876e4b-2309-4198-ae3e-94fbd54f3ed3",
   "metadata": {},
   "outputs": [],
   "source": [
    "dataset1['initial_time'] = dataset1['timestamp_created'].dt.time\n",
    "dataset1['Hours'] = dataset1['timestamp_created'].dt.hour\n",
    "dataset1['num_reviews'] = dataset1['author.num_reviews']\n",
    "#since timestamp_created/updated columns contain date and time, we have separated time from it."
   ]
  },
  {
   "cell_type": "markdown",
   "id": "a3a9c3c3-3bc8-4597-beca-b1b64c67c7ed",
   "metadata": {},
   "source": [
    "#### 1. What is the most common time that authors review an application? For example, authors usually write a review at 17:44."
   ]
  },
  {
   "cell_type": "code",
   "execution_count": 22,
   "id": "f4b9400b-b2ae-4e96-ad7d-35da3f8c559e",
   "metadata": {},
   "outputs": [
    {
     "data": {
      "text/plain": [
       "initial_time\n",
       "15:54:53    583\n",
       "Name: timestamp_created, dtype: int64"
      ]
     },
     "execution_count": 22,
     "metadata": {},
     "output_type": "execute_result"
    }
   ],
   "source": [
    "dataset1.groupby(['initial_time']).timestamp_created.count().sort_values(ascending=False).head(1)"
   ]
  },
  {
   "cell_type": "markdown",
   "id": "341c5bf4-148a-4c0b-aac0-54bc2a39a4e2",
   "metadata": {},
   "source": [
    "#### Hence, authors usually writes at 15:54"
   ]
  },
  {
   "cell_type": "markdown",
   "id": "60588737-bd77-488c-a140-59c735bb25ce",
   "metadata": {},
   "source": [
    "#### 2. Create a function that receives as a parameter a list of time intervals and returns the plot the number of reviews for each of the intervals."
   ]
  },
  {
   "cell_type": "code",
   "execution_count": 23,
   "id": "5ae12afb-5cdf-4748-a513-190a6211be01",
   "metadata": {},
   "outputs": [],
   "source": [
    "g = dataset1.groupby(['Hours']).count()\n",
    "group = dataset1.groupby(['Hours']).sum()"
   ]
  },
  {
   "cell_type": "code",
   "execution_count": 24,
   "id": "965130c3-78e4-49e8-b285-ff40d4b8f6f5",
   "metadata": {},
   "outputs": [],
   "source": [
    "g1 = g['Unnamed: 0']* group['num_reviews']\n",
    "#creating a new daxtaset for hours and counts\n",
    "g1.reset_index().to_csv('rq3.csv',index=False)"
   ]
  },
  {
   "cell_type": "code",
   "execution_count": 25,
   "id": "a626bd46-d726-4e4a-a087-44dd7510055e",
   "metadata": {},
   "outputs": [],
   "source": [
    "#Reading the dataset and renaming the column\n",
    "dataset2 = pd.read_csv('./rq3.csv')\n",
    "dataset2 = dataset2.rename(columns={'0':'Counts'})"
   ]
  },
  {
   "cell_type": "code",
   "execution_count": 27,
   "id": "7e347394-6172-44fb-8faa-cbd812c15c59",
   "metadata": {},
   "outputs": [],
   "source": [
    "#Appending Hours and Counts column to a single list\n",
    "a = list(dataset2['Hours'])\n",
    "b = list(dataset2['Counts'])\n",
    "c = []\n",
    "for i in range(len(a)):\n",
    "    c.append([a[i],b[i]])"
   ]
  },
  {
   "cell_type": "markdown",
   "id": "deeda9c6-f5aa-4702-b4be-2262b153e912",
   "metadata": {},
   "source": [
    "#### Implementation of Function"
   ]
  },
  {
   "cell_type": "code",
   "execution_count": 28,
   "id": "449a18ae-e905-4479-8fdf-208ed80ca78c",
   "metadata": {},
   "outputs": [],
   "source": [
    "def param_list(intervals):\n",
    "\n",
    "    m =[]\n",
    "    for i in range(len(intervals)-1):\n",
    "        s =0\n",
    "        if intervals[i] < intervals[i+1]:\n",
    "            for j in range(intervals[i],intervals[i+1]):\n",
    "                s += c[j][1]\n",
    "            m.append(s)\n",
    "        else:\n",
    "            j +=1\n",
    "            k =j\n",
    "            while k <24:\n",
    "                k +=1\n",
    "                s += c[j][1]\n",
    "                j+=1\n",
    "            m.append(s)\n",
    "    print(\"Number of reviews between intervals respectively: \",m)\n",
    "    \n",
    "    return plt.bar(intervals[:-1],m)"
   ]
  },
  {
   "cell_type": "markdown",
   "id": "28aa9a69-a16b-4798-98d4-e021b1fd7644",
   "metadata": {},
   "source": [
    "#### 3. Use the function that you created in the previous literal to plot the number of reviews between the following time intervals:\n",
    "\n",
    "    Initial time | Final time\n",
    "    ------------ | ----------\n",
    "    06:00:00     |  10:59:59\n",
    "    11:00:00     |  13:59:59\n",
    "    14:00:00     |  16:59:59\n",
    "    17:00:00     |  19:59:59\n",
    "    20:00:00     |  23:59:59\n",
    "    00:00:00     |  02:59:59\n",
    "    03:00:00     |  05:59:59"
   ]
  },
  {
   "cell_type": "code",
   "execution_count": 29,
   "id": "eee37da8-cc33-4c5f-948b-eefcfda88f51",
   "metadata": {},
   "outputs": [],
   "source": [
    "inter= [\"06:00:00 - 10:59:59\", \"11:00:00 - 13:59:59\", \"14:00:00 - 16:59:59\", \"17:00:00 - 19:59:59\", \"20:00:00 - 23:59:59\", \"00:00:00 - 02:59:59\", \"03:00:00 - 05:59:59\"]"
   ]
  },
  {
   "cell_type": "code",
   "execution_count": 30,
   "id": "febc421a-e97c-4bfb-89d2-abbef3fe2d53",
   "metadata": {},
   "outputs": [
    {
     "name": "stdout",
     "output_type": "stream",
     "text": [
      "Number of reviews between intervals respectively:  [31587065230767.0, 29095612153636.0, 38778499336189.0, 38060241989483.0, 8.672057014306884e+18, 19979705061581.0, 17673935742511.0]\n"
     ]
    },
    {
     "data": {
      "image/png": "[encoded data removed]",
      "text/plain": [
       "<Figure size 432x288 with 1 Axes>"
      ]
     },
     "metadata": {
      "needs_background": "light"
     },
     "output_type": "display_data"
    }
   ],
   "source": [
    "intervals = [6,11,14,17,20,0,3,6]\n",
    "plt.xticks(intervals[:-1],inter, rotation = 'vertical')\n",
    "plt.xlabel('Intervals',size = 20)\n",
    "plt.ylabel('Counts', size = 20)\n",
    "plt.grid()\n",
    "param_list(intervals)\n",
    "plt.show()"
   ]
  },
  {
   "cell_type": "markdown",
   "id": "38cf85f7-9f18-411d-a57c-c9a1eb02d49a",
   "metadata": {},
   "source": [
    "### [RQ4] As Steam is a worldwide platform, the reviews can be done in many languages. Let's extract some information about it.\n",
    "\n",
    "1. What are the top 3 languages used to review applications?\n",
    "2. Create a function that receives as parameters both the name of a data set and a list of languages’ names and returns a data frame filtered only with the reviews written in the provided languages.\n",
    "3. Use the function created in the previous literal to find what percentage of these reviews (associated with the top 3 languages) were voted as funny?\n",
    "4. Use the function created in the literal “a” to find what percentage of these reviews (associated with the top 3 languages) were voted as helpful?"
   ]
  },
  {
   "cell_type": "markdown",
   "id": "926630ed-5b14-4a8e-a60f-69c33956de7c",
   "metadata": {
    "id": "3aed9aaa-7e1d-470b-82fa-52acec243928"
   },
   "source": [
    "#### 1.What are the top 3 languages used to review applications?\n",
    "Answ: engl,schinese,russ"
   ]
  },
  {
   "cell_type": "code",
   "execution_count": 12,
   "id": "4f72c6f5-e83a-4216-a54c-bb7c18c6bf74",
   "metadata": {},
   "outputs": [
    {
     "name": "stdout",
     "output_type": "stream",
     "text": [
      "The 0-st popular language: english\n",
      "The 1-st popular language: schinese\n",
      "The 2-st popular language: russian\n"
     ]
    }
   ],
   "source": [
    "lang = dataset[\"language\"].to_numpy() #array with languages\n",
    "unique, counts = np.unique(lang, return_counts=True)\n",
    "ind = (np.argsort(counts))[-3:] \n",
    "for i in range (3):\n",
    "    print(f'The {i}-st popular language:', unique[ind[2-i]])"
   ]
  },
  {
   "cell_type": "markdown",
   "id": "e0d23467-fe85-485e-84c3-d2d2f3c11c21",
   "metadata": {},
   "source": [
    "#### 2. Create a function that receives as parameters both the name of a data set and a list of languages’ names and returns a data frame filtered only with the reviews written in the provided languages."
   ]
  },
  {
   "cell_type": "code",
   "execution_count": 13,
   "id": "b3ca0028-32a9-4091-aae8-919aa036b009",
   "metadata": {},
   "outputs": [],
   "source": [
    "def lang_filter(dataset, lang):\n",
    "    return dataset.loc[dataset['language'].isin(lang)]"
   ]
  },
  {
   "cell_type": "markdown",
   "id": "4b65d080-8766-4040-8fad-589539ff3a7f",
   "metadata": {},
   "source": [
    "#### 3. Use the function created in the previous literal to find what percentage of these reviews (associated with the top 3 languages) were voted as funny?"
   ]
  },
  {
   "cell_type": "code",
   "execution_count": 14,
   "id": "464b990d-18c4-41ee-a65e-c2352f70fb69",
   "metadata": {},
   "outputs": [
    {
     "name": "stdout",
     "output_type": "stream",
     "text": [
      "Percentage of these reviews (associated with the top 3 languages) were voted as funny: 11.96959393390585 %\n"
     ]
    }
   ],
   "source": [
    "top_lang = [unique[ind[2-i]] for i in range(3)] #top 3 language, using code for 1st question\n",
    "dataset_top = lang_filter(dataset, lang) #dataset whith reviews in one of three top languages\n",
    "dataset_top_funny = dataset.loc[dataset['votes_funny'] > 0] ##dataset whith reviews in one\n",
    "                                                            ##of three top languages, which were voted funny\n",
    "funny_perc = 100*dataset_top_funny.shape[0]/dataset_top.shape[0]\n",
    "print(\"Percentage of these reviews (associated with the top 3 languages) were voted as funny:\", funny_perc,\"%\")"
   ]
  },
  {
   "cell_type": "markdown",
   "id": "6cde2f87-8990-4c29-9d87-06fca0e45496",
   "metadata": {},
   "source": [
    "#### 4. Use the function created in the literal “a” to find what percentage of these reviews (associated with the top 3 languages) were voted as helpful?"
   ]
  },
  {
   "cell_type": "code",
   "execution_count": 15,
   "id": "9bcc780c-c3f8-4b99-afd7-49752344a0b3",
   "metadata": {},
   "outputs": [
    {
     "name": "stdout",
     "output_type": "stream",
     "text": [
      "Percentage of these reviews (associated with the top 3 languages) were voted as helpful: 28.073480697965746 %\n"
     ]
    }
   ],
   "source": [
    "dataset_top_help = dataset.loc[dataset['votes_helpful'] > 0] ##dataset whith reviews in one\n",
    "                                                            ##of three top languages, which were voted funny\n",
    "funny_perc = 100*dataset_top_help.shape[0]/dataset_top.shape[0]\n",
    "print(\"Percentage of these reviews (associated with the top 3 languages) were voted as helpful:\", funny_perc,\"%\")"
   ]
  },
  {
   "cell_type": "markdown",
   "id": "52fdd20f-9b0a-4936-800e-0773b571e941",
   "metadata": {
    "id": "296b717a-4756-4ce9-994b-b1397ff6a3ed"
   },
   "source": [
    "### [RQ5] The reviews' authors are users from the game that provide their opinion on it. Now you can check how often they make reviews.\n",
    "\n",
    "1. Plot the top 10 most popular reviewers and the number of reviews.\n",
    "2. What applications did the most popular author review?\n",
    "3. How many applications did he purchase, and how many did he get as free? Provide the number (count) and the percentage.\n",
    "4. How many of the applications he purchased reviewed positively, and how many negatively? How about the applications he received for free?"
   ]
  },
  {
   "cell_type": "markdown",
   "id": "94fc2f3a-2585-4276-988c-b6c1e1d2a61a",
   "metadata": {},
   "source": [
    "#### 1. Plot the top 10 most popular reviewers and the number of reviews."
   ]
  },
  {
   "cell_type": "code",
   "execution_count": 31,
   "id": "f4073039-ae27-47ec-838f-887ce6904894",
   "metadata": {
    "id": "ed1f4752-eb96-4267-aa59-0cf993eb059d"
   },
   "outputs": [
    {
     "name": "stdout",
     "output_type": "stream",
     "text": [
      "author.steamid\n",
      "76561198062813911    149\n",
      "76561198315585536    132\n",
      "76561198192166873    107\n",
      "76561198239163744    106\n",
      "76561198045381877    103\n",
      "76561198064946151    100\n",
      "76561198013146396     99\n",
      "76561198027973295     96\n",
      "76561197969749884     88\n",
      "76561197989746995     86\n",
      "Name: review_id, dtype: int64\n"
     ]
    }
   ],
   "source": [
    "a=dataset.groupby(['author.steamid']).review_id.count().sort_values(ascending=False)\n",
    "print(a[:10])"
   ]
  },
  {
   "cell_type": "code",
   "execution_count": 32,
   "id": "26cc7c7f",
   "metadata": {},
   "outputs": [
    {
     "name": "stdout",
     "output_type": "stream",
     "text": [
      "These are the players who have carried out most reviews, the most popular reviewer made  149 the tenth most popular made 86\n"
     ]
    }
   ],
   "source": [
    "print(\"These are the players who have carried out most reviews, the most popular reviewer made \",a[:10].max(), \"the tenth most popular made\",a[:10].min())"
   ]
  },
  {
   "cell_type": "markdown",
   "id": "1ad1ede2-e3ac-4afc-a8e3-ebf1d5a5e66d",
   "metadata": {},
   "source": [
    "#### 2. What applications did the most popular author review?"
   ]
  },
  {
   "cell_type": "code",
   "execution_count": 33,
   "id": "47e13180-273a-41fc-8b2d-b11b24e6fc9b",
   "metadata": {},
   "outputs": [
    {
     "name": "stdout",
     "output_type": "stream",
     "text": [
      "The applications that the most popular author review are:  Half-Life Counter-Strike: Source Half-Life 2: Episode Two Portal 2 Garry's Mod Sid Meier's Civilization V Dead by Daylight Sid Meier's Civilization VI Subnautica Human: Fall Flat Banished Celeste Getting Over It with Bennett Foddy A Hat in Time The Forest Axiom Verge The Binding of Isaac: Rebirth To the Moon Cave Story+ Titan Souls Super Meat Boy Don't Escape: 4 Days to Survive Volgarr the Viking Enter the Gungeon Salt and Sanctuary Hollow Knight The End Is Nigh Factorio RimWorld Insurgency: Sandstorm Euro Truck Simulator 2 Foundation Kenshi Into the Breach Warhammer: Vermintide 2 DOOM Eternal Age of Empires: Definitive Edition Void Bastards Stardew Valley Among Us Blackwake Little Nightmares Bomber Crew Rust HITMAN™ 2 Phasmophobia Mount & Blade: Warband Resident Evil 2 Slime Rancher Hotline Miami Tomb Raider BattleBlock Theater Dishonored South Park™: The Stick of Truth™ Undertale Don't Starve Rocket League Dead Cells Broforce The Wolf Among Us The Walking Dead One Finger Death Punch Oxygen Not Included Cuphead ULTRAKILL Castle Crashers Townscaper Papers, Please GRIS DUSK Outlast FTL: Faster Than Light Dying Light American Truck Simulator Saints Row: The Third STAR WARS™ Empire at War: Gold Pack Age of Empires II (2013) Super Hexagon BioShock Infinite DOOM Black Mesa Finding Paradise Keep Talking and Nobody Explodes Duck Game Mark of the Ninja Phoenix Wright: Ace Attorney Trilogy Gunpoint PLAYERUNKNOWN'S BATTLEGROUNDS Monster Hunter: World The Elder Scrolls Online Total War: WARHAMMER II Cities: Skylines Stellaris Black Desert Online Kingdom Come: Deliverance Jurassic World Evolution ARK: Survival Evolved No Man's Sky Frostpunk Fallout 4 DARK SOULS™ III Rise of the Tomb Raider Middle-earth™: Shadow of War™ Hearts of Iron IV They Are Billions Total War Saga: Thrones of Britannia Total War: ROME II - Emperor Edition Terraria PAYDAY 2 XCOM 2 Deep Rock Galactic Hunt: Showdown Conan Exiles Two Point Hospital Total War: WARHAMMER The Elder Scrolls V: Skyrim Special Edition NieR:Automata™ House Flipper Surviving Mars Ni no Kuni™ II: Revenant Kingdom Railway Empire Rise of Industry Devil May Cry HD Collection Heroes of Hammerwatch Ghost of a Tale Ancestors Legacy FAR: Lone Sails Totally Accurate Battlegrounds Vampyr Yakuza 0 Thief Simulator Darksiders III Mutant Year Zero: Road to Eden Just Cause 4 Planet Coaster Nioh: Complete Edition Europa Universalis IV Just Cause 3 Resident Evil 7 Biohazard Urban Empire Youtubers Life Night in the Woods Northgard Sniper Elite 4 Hollow Knight Day of Infamy SimAirport Dead Rising 4 Styx: Shards of Darkness\n"
     ]
    }
   ],
   "source": [
    "author_pop=dataset.groupby(['author.steamid']).review_id.count().idxmax()\n",
    "app=dataset.loc[dataset['author.steamid']==author_pop ,['app_name']]\n",
    "print('The applications that the most popular author review are: ', *app[\"app_name\"].tolist())"
   ]
  },
  {
   "cell_type": "markdown",
   "id": "9cefa6f5-fdfd-427b-9b8d-fbd42c1efc33",
   "metadata": {},
   "source": [
    "#### 3. How many applications did he purchase, and how many did he get as free? Provide the number (count) and the percentage"
   ]
  },
  {
   "cell_type": "code",
   "execution_count": 34,
   "id": "58930627-0864-41df-9772-589d67e1926e",
   "metadata": {},
   "outputs": [
    {
     "name": "stdout",
     "output_type": "stream",
     "text": [
      "The applications he bought are: 110 ,in percent: 73.8255033557047 %\n",
      "The applications he received for free are: 4 ,in percent: 2.684563758389262 %\n"
     ]
    }
   ],
   "source": [
    "pur=dataset.loc[(dataset['author.steamid']==author_pop) & (dataset.steam_purchase==True),['app_name']]\n",
    "print('The applications he bought are:',pur[\"app_name\"].count(),\",in percent:\",(pur[\"app_name\"].count()/app[\"app_name\"].count())*100,\"%\")\n",
    "free=dataset.loc[(dataset['author.steamid']==author_pop) & (dataset.received_for_free==True),['app_name']]\n",
    "print('The applications he received for free are:',free[\"app_name\"].count(),\",in percent:\",(free[\"app_name\"].count()/app[\"app_name\"].count())*100,\"%\")"
   ]
  },
  {
   "cell_type": "markdown",
   "id": "76dcee99-9602-463c-9e23-0fbcd245a3ec",
   "metadata": {},
   "source": [
    "#### 4. How many of the applications he purchased reviewed positively, and how many negatively? How about the applications he received for free?"
   ]
  },
  {
   "cell_type": "code",
   "execution_count": 35,
   "id": "39a40a6e-670c-42bf-871c-8300cd4db51c",
   "metadata": {},
   "outputs": [
    {
     "name": "stdout",
     "output_type": "stream",
     "text": [
      "the applications that he bought and reviewed positively are: 108\n",
      "the applications that he bought and reviewed negatively are: 2\n",
      "the applications that he received for free and reviewed positevely are: 4\n",
      "the applications that he received for free and reviewed nagatively are: 0\n"
     ]
    }
   ],
   "source": [
    "pur_pos= dataset.loc[(dataset['author.steamid']==author_pop) & (dataset.steam_purchase==True) & (dataset.recommended==True)]\n",
    "print(\"the applications that he bought and reviewed positively are:\", pur_pos[\"app_name\"].count())\n",
    "pur_neg= dataset.loc[(dataset['author.steamid']==author_pop) & (dataset.steam_purchase==True) & (dataset.recommended==False)]\n",
    "print(\"the applications that he bought and reviewed negatively are:\", pur_neg[\"app_name\"].count())\n",
    "free_pos= dataset.loc[(dataset['author.steamid']==author_pop) & (dataset.received_for_free==True) & (dataset.recommended==True)]\n",
    "print(\"the applications that he received for free and reviewed positevely are:\", free_pos[\"app_name\"].count())\n",
    "free_neg= dataset.loc[(dataset['author.steamid']==author_pop) & (dataset.received_for_free==True) & (dataset.recommended==False)]\n",
    "print(\"the applications that he received for free and reviewed nagatively are:\", free_neg[\"app_name\"].count())"
   ]
  },
  {
   "cell_type": "markdown",
   "id": "a5125e1b-577e-445c-94f2-0bf4865dacd5",
   "metadata": {},
   "source": [
    "### [RQ6] It's time to get information from the updates that a user does to his reviews.\n",
    "\n",
    "1. What is the average time (days and minutes) a user lets pass before he updates a review?\n",
    "2. Plot the top 3 authors that usually update their reviews."
   ]
  },
  {
   "cell_type": "markdown",
   "id": "fb7a2e8a-6978-4c86-9ea0-1d1f6f3aa978",
   "metadata": {},
   "source": [
    "#### 1. What is the average time (days and minutes) a user lets pass before he updates a review?"
   ]
  },
  {
   "cell_type": "code",
   "execution_count": 116,
   "id": "2841d264-82dc-4cd8-9bf1-596e058d4664",
   "metadata": {},
   "outputs": [],
   "source": [
    "dataset1['time_diff'] = dataset1['timestamp_updated'] - dataset1['timestamp_created']"
   ]
  },
  {
   "cell_type": "code",
   "execution_count": 117,
   "id": "a135c466-689f-42fb-8739-72ecf93cba48",
   "metadata": {},
   "outputs": [],
   "source": [
    "#Taking mean (TimeDelta)\n",
    "time = dataset1['time_diff'].mean()"
   ]
  },
  {
   "cell_type": "code",
   "execution_count": 119,
   "id": "5e9e7798-9cab-4e5e-bf23-de1e11c19db6",
   "metadata": {},
   "outputs": [
    {
     "name": "stdout",
     "output_type": "stream",
     "text": [
      "Average time user lets pass before he updates a review is:  2542174.759092895\n"
     ]
    }
   ],
   "source": [
    "print (\"Average time user lets pass before he updates a review is: \", time )"
   ]
  },
  {
   "cell_type": "markdown",
   "id": "5e2ccf67-a36b-45e2-bffe-d5d116473798",
   "metadata": {},
   "source": [
    "#### 2. Plot the top 3 authors that usually update their reviews."
   ]
  },
  {
   "cell_type": "code",
   "execution_count": 120,
   "id": "7da31886-a834-46c9-9eb6-65ece4ff4974",
   "metadata": {},
   "outputs": [
    {
     "data": {
      "text/html": [
       "<div>\n",
       "<style scoped>\n",
       "    .dataframe tbody tr th:only-of-type {\n",
       "        vertical-align: middle;\n",
       "    }\n",
       "\n",
       "    .dataframe tbody tr th {\n",
       "        vertical-align: top;\n",
       "    }\n",
       "\n",
       "    .dataframe thead th {\n",
       "        text-align: right;\n",
       "    }\n",
       "</style>\n",
       "<table border=\"1\" class=\"dataframe\">\n",
       "  <thead>\n",
       "    <tr style=\"text-align: right;\">\n",
       "      <th></th>\n",
       "      <th></th>\n",
       "      <th>app_id</th>\n",
       "      <th>app_name</th>\n",
       "      <th>review_id</th>\n",
       "      <th>language</th>\n",
       "      <th>review</th>\n",
       "      <th>timestamp_created</th>\n",
       "      <th>timestamp_updated</th>\n",
       "      <th>recommended</th>\n",
       "      <th>votes_helpful</th>\n",
       "      <th>votes_funny</th>\n",
       "      <th>...</th>\n",
       "      <th>comment_count</th>\n",
       "      <th>steam_purchase</th>\n",
       "      <th>received_for_free</th>\n",
       "      <th>written_during_early_access</th>\n",
       "      <th>author.num_games_owned</th>\n",
       "      <th>author.num_reviews</th>\n",
       "      <th>author.playtime_forever</th>\n",
       "      <th>author.playtime_last_two_weeks</th>\n",
       "      <th>author.playtime_at_review</th>\n",
       "      <th>author.last_played</th>\n",
       "    </tr>\n",
       "    <tr>\n",
       "      <th>time_diff</th>\n",
       "      <th>author.steamid</th>\n",
       "      <th></th>\n",
       "      <th></th>\n",
       "      <th></th>\n",
       "      <th></th>\n",
       "      <th></th>\n",
       "      <th></th>\n",
       "      <th></th>\n",
       "      <th></th>\n",
       "      <th></th>\n",
       "      <th></th>\n",
       "      <th></th>\n",
       "      <th></th>\n",
       "      <th></th>\n",
       "      <th></th>\n",
       "      <th></th>\n",
       "      <th></th>\n",
       "      <th></th>\n",
       "      <th></th>\n",
       "      <th></th>\n",
       "      <th></th>\n",
       "      <th></th>\n",
       "    </tr>\n",
       "  </thead>\n",
       "  <tbody>\n",
       "    <tr>\n",
       "      <th>-4</th>\n",
       "      <th>76561198331063747</th>\n",
       "      <td>1</td>\n",
       "      <td>1</td>\n",
       "      <td>1</td>\n",
       "      <td>1</td>\n",
       "      <td>1</td>\n",
       "      <td>1</td>\n",
       "      <td>1</td>\n",
       "      <td>1</td>\n",
       "      <td>1</td>\n",
       "      <td>1</td>\n",
       "      <td>...</td>\n",
       "      <td>1</td>\n",
       "      <td>1</td>\n",
       "      <td>1</td>\n",
       "      <td>1</td>\n",
       "      <td>1</td>\n",
       "      <td>1</td>\n",
       "      <td>1</td>\n",
       "      <td>1</td>\n",
       "      <td>1</td>\n",
       "      <td>1</td>\n",
       "    </tr>\n",
       "    <tr>\n",
       "      <th rowspan=\"2\" valign=\"top\">0</th>\n",
       "      <th>76561197960266130</th>\n",
       "      <td>1</td>\n",
       "      <td>1</td>\n",
       "      <td>1</td>\n",
       "      <td>1</td>\n",
       "      <td>1</td>\n",
       "      <td>1</td>\n",
       "      <td>1</td>\n",
       "      <td>1</td>\n",
       "      <td>1</td>\n",
       "      <td>1</td>\n",
       "      <td>...</td>\n",
       "      <td>1</td>\n",
       "      <td>1</td>\n",
       "      <td>1</td>\n",
       "      <td>1</td>\n",
       "      <td>1</td>\n",
       "      <td>1</td>\n",
       "      <td>1</td>\n",
       "      <td>1</td>\n",
       "      <td>1</td>\n",
       "      <td>1</td>\n",
       "    </tr>\n",
       "    <tr>\n",
       "      <th>76561197960266945</th>\n",
       "      <td>2</td>\n",
       "      <td>2</td>\n",
       "      <td>2</td>\n",
       "      <td>1</td>\n",
       "      <td>2</td>\n",
       "      <td>2</td>\n",
       "      <td>2</td>\n",
       "      <td>2</td>\n",
       "      <td>2</td>\n",
       "      <td>1</td>\n",
       "      <td>...</td>\n",
       "      <td>1</td>\n",
       "      <td>1</td>\n",
       "      <td>1</td>\n",
       "      <td>1</td>\n",
       "      <td>1</td>\n",
       "      <td>1</td>\n",
       "      <td>2</td>\n",
       "      <td>1</td>\n",
       "      <td>2</td>\n",
       "      <td>2</td>\n",
       "    </tr>\n",
       "  </tbody>\n",
       "</table>\n",
       "<p>3 rows × 21 columns</p>\n",
       "</div>"
      ],
      "text/plain": [
       "                             app_id  app_name  review_id  language  review  \\\n",
       "time_diff author.steamid                                                     \n",
       "-4        76561198331063747       1         1          1         1       1   \n",
       " 0        76561197960266130       1         1          1         1       1   \n",
       "          76561197960266945       2         2          2         1       2   \n",
       "\n",
       "                             timestamp_created  timestamp_updated  \\\n",
       "time_diff author.steamid                                            \n",
       "-4        76561198331063747                  1                  1   \n",
       " 0        76561197960266130                  1                  1   \n",
       "          76561197960266945                  2                  2   \n",
       "\n",
       "                             recommended  votes_helpful  votes_funny  ...  \\\n",
       "time_diff author.steamid                                              ...   \n",
       "-4        76561198331063747            1              1            1  ...   \n",
       " 0        76561197960266130            1              1            1  ...   \n",
       "          76561197960266945            2              2            1  ...   \n",
       "\n",
       "                             comment_count  steam_purchase  received_for_free  \\\n",
       "time_diff author.steamid                                                        \n",
       "-4        76561198331063747              1               1                  1   \n",
       " 0        76561197960266130              1               1                  1   \n",
       "          76561197960266945              1               1                  1   \n",
       "\n",
       "                             written_during_early_access  \\\n",
       "time_diff author.steamid                                   \n",
       "-4        76561198331063747                            1   \n",
       " 0        76561197960266130                            1   \n",
       "          76561197960266945                            1   \n",
       "\n",
       "                             author.num_games_owned  author.num_reviews  \\\n",
       "time_diff author.steamid                                                  \n",
       "-4        76561198331063747                       1                   1   \n",
       " 0        76561197960266130                       1                   1   \n",
       "          76561197960266945                       1                   1   \n",
       "\n",
       "                             author.playtime_forever  \\\n",
       "time_diff author.steamid                               \n",
       "-4        76561198331063747                        1   \n",
       " 0        76561197960266130                        1   \n",
       "          76561197960266945                        2   \n",
       "\n",
       "                             author.playtime_last_two_weeks  \\\n",
       "time_diff author.steamid                                      \n",
       "-4        76561198331063747                               1   \n",
       " 0        76561197960266130                               1   \n",
       "          76561197960266945                               1   \n",
       "\n",
       "                             author.playtime_at_review  author.last_played  \n",
       "time_diff author.steamid                                                    \n",
       "-4        76561198331063747                          1                   1  \n",
       " 0        76561197960266130                          1                   1  \n",
       "          76561197960266945                          2                   2  \n",
       "\n",
       "[3 rows x 21 columns]"
      ]
     },
     "execution_count": 120,
     "metadata": {},
     "output_type": "execute_result"
    }
   ],
   "source": [
    "dataset1.groupby(['time_diff','author.steamid']).nunique().head(3)"
   ]
  },
  {
   "cell_type": "code",
   "execution_count": 123,
   "id": "87d86711-ea1c-4c73-9e52-9096c8b526cf",
   "metadata": {},
   "outputs": [
    {
     "name": "stdout",
     "output_type": "stream",
     "text": [
      "76561198192166873    107\n",
      "76561198239163744    106\n",
      "76561198013146396     98\n",
      "76561198027973295     96\n",
      "76561198032476027     84\n",
      "                    ... \n",
      "76561198985167727      1\n",
      "76561198824586536      1\n",
      "76561198984398889      1\n",
      "76561198825103748      1\n",
      "76561198259866806      1\n",
      "Name: author.steamid, Length: 3772053, dtype: int64\n"
     ]
    }
   ],
   "source": [
    "g2 = pd.DataFrame(dataset1, columns = ['timestamp_created','timestamp_updated','author.steamid','time_diff'])\n",
    "\n",
    "#reading the dataset\n",
    "dataset3 = g2.reset_index()\n",
    "dataset4 = dataset3[~(dataset3[dataset3.columns[3:]] == '0 days 00:00:00').any(axis=1)]\n",
    "print(dataset4['author.steamid'].value_counts())"
   ]
  },
  {
   "cell_type": "markdown",
   "id": "74aea6d9-516a-46e9-945b-99918ff6f16f",
   "metadata": {},
   "source": [
    "### [RQ7] Of course, calculating probabilities is a job that any Data Scientist must know. Let's compute Some interesting figures.\n",
    "\n",
    "1. What’s the probability that a review has a Weighted Vote Score equal to or bigger than 0.5?\n",
    "2. What’s the probability that a review has at least one vote as funny given that the Weighted Vote Score is bigger than 0.5?\n",
    "3. Is the probability that “a review has at least one vote as funny” independent of the “probability that a review has a Weighted Vote Score equal or bigger than 0.5”?"
   ]
  },
  {
   "cell_type": "markdown",
   "id": "3c8d366a-5c7c-496b-89cb-7183c36aaa4f",
   "metadata": {
    "id": "b5617958-32d8-446d-8c32-07e9dfe58a17"
   },
   "source": [
    "#### 1. What’s the probability that a review has a Weighted Vote Score equal to or bigger than 0.5?"
   ]
  },
  {
   "cell_type": "code",
   "execution_count": 49,
   "id": "ae9bc266-3e68-4aae-b612-bae05db0752c",
   "metadata": {},
   "outputs": [
    {
     "name": "stdout",
     "output_type": "stream",
     "text": [
      "The probability that a review has a Weighted Vote Score equal to or bigger than 0.5 is: 0.22\n"
     ]
    }
   ],
   "source": [
    "num_wvs_0_5 = dataset.loc[dataset['weighted_vote_score'] >= 0.5,['weighted_vote_score']].shape[0]\n",
    "num_wvs_tot = dataset['weighted_vote_score'].shape[0]\n",
    "pa= num_wvs_0_5/num_wvs_tot\n",
    "print(\"The probability that a review has a Weighted Vote Score equal to or bigger than 0.5 is:\", round(pa, 2))"
   ]
  },
  {
   "cell_type": "markdown",
   "id": "b53f9836-90e9-465a-b9df-599789842c4f",
   "metadata": {},
   "source": [
    "#### 2. What’s the probability that a review has at least one vote as funny given that the Weighted Vote Score is bigger than 0.5?"
   ]
  },
  {
   "cell_type": "code",
   "execution_count": 50,
   "id": "a5ff6124-4bce-433b-b87b-a84575ef6910",
   "metadata": {},
   "outputs": [
    {
     "name": "stdout",
     "output_type": "stream",
     "text": [
      "the probability that a review has at least one vote as funny given that the Weighted Vote Score is bigger than 0.5 is: 0.25\n"
     ]
    }
   ],
   "source": [
    "num_funny_O_5 = dataset.loc[(dataset['weighted_vote_score'] >= 0.5) & (dataset[\"votes_funny\"]>=1),[\"review_id\"]].shape[0]\n",
    "p = round((num_funny_O_5/num_wvs_0_5),2)\n",
    "print(\"the probability that a review has at least one vote as funny given that the Weighted Vote Score is bigger than 0.5 is:\", p)"
   ]
  },
  {
   "cell_type": "markdown",
   "id": "fedee4df-f750-48e2-b083-30d71ff1826d",
   "metadata": {},
   "source": [
    "#### 3. Is the probability that “a review has at least one vote as funny” independent of the “probability that a review has a Weighted Vote Score equal or bigger than 0.5”?"
   ]
  },
  {
   "cell_type": "code",
   "execution_count": 58,
   "id": "05b1d328-381c-47be-85f4-ffc29591c407",
   "metadata": {},
   "outputs": [
    {
     "name": "stdout",
     "output_type": "stream",
     "text": [
      "the probability that “a review has at least one vote as funny” is independent of the “probability that a review has a Weighted Vote Score equal or bigger than 0.5”: False\n"
     ]
    }
   ],
   "source": [
    "#p(a inters b) is p(a) * p(b) if and only if a and b is independent\n",
    "#p(a inters b) is num_funny_O_5, p(a) is pa, p(b) is : \n",
    "pb = dataset.loc[dataset[\"votes_funny\"]>=1].shape[0]/num_wvs_tot\n",
    "p_inters = num_funny_O_5/num_wvs_tot\n",
    "print(\"the probability that “a review has at least one vote as funny” is independent of the “probability that a review has a Weighted Vote Score equal or bigger than 0.5”:\", p==pa*pb)"
   ]
  },
  {
   "cell_type": "markdown",
   "id": "b662b2cf-7627-4b6e-be0d-381a3a858d80",
   "metadata": {},
   "source": [
    "### [RQ8] Every decision you take in a data-based environment should be reinforced with charts, statistical tests and analysis methods to check if a hypothesis is correct or not.\n",
    "\n",
    "1. Is there a significant difference in the Weighted Vote Score of reviews made in Chinese vs the ones made in Russian? Use an appropriate statistical test or technique and support your choice.\n",
    "2. Can you find any significant relationship between the time that a user lets pass before he updates the review and the Weighted Vote Score? Use an appropriate statistical test or technique and support your choice.\n",
    "3. Is there any change in the relationship of the variables mentioned in the previous literal if you include whether an application is recommended or not in the review? Use an appropriate statistical test or technique and support your choice.\n",
    "4. What are histograms, bar plots, scatterplots and pie charts used for?\n",
    "5. What insights can you extract from a Box Plot?"
   ]
  },
  {
   "cell_type": "code",
   "execution_count": 62,
   "id": "32beb3f9",
   "metadata": {},
   "outputs": [],
   "source": [
    "dataset1 = dataset.loc[(dataset['language'] == \"russian\") | (dataset['language'] == \"schinese\")]\n",
    "w_russ = dataset.loc[dataset['language'] == \"russian\"]['weighted_vote_score'].to_numpy()\n",
    "w_ch = dataset.loc[dataset['language'] == \"schinese\"]['weighted_vote_score'].to_numpy()"
   ]
  },
  {
   "cell_type": "markdown",
   "id": "725add17",
   "metadata": {},
   "source": [
    "#### 5. What insights can you extract from a Box Plot?\n",
    "Let's draw boxplot to learn a spread of data with weighted vote scores of russian and chinese reviews (it's will be useful for quest1)"
   ]
  },
  {
   "cell_type": "code",
   "execution_count": 21,
   "id": "893aaafe",
   "metadata": {},
   "outputs": [
    {
     "data": {
      "text/plain": [
       "<AxesSubplot:title={'center':'weighted_vote_score'}, xlabel='language'>"
      ]
     },
     "execution_count": 21,
     "metadata": {},
     "output_type": "execute_result"
    },
    {
     "data": {
      "image/png": "[encoded data removed]",
      "text/plain": [
       "<Figure size 432x288 with 1 Axes>"
      ]
     },
     "metadata": {
      "needs_background": "light"
     },
     "output_type": "display_data"
    }
   ],
   "source": [
    "dataset1.boxplot(column='weighted_vote_score', by='language', showmeans=True)"
   ]
  },
  {
   "cell_type": "markdown",
   "id": "95a713bb",
   "metadata": {},
   "source": [
    "From boxplot we see that russian weight scores and chineese scores spread alike. Also we see differences between their means, mean of russian weight scores are a little bit higher."
   ]
  },
  {
   "cell_type": "markdown",
   "id": "db414869",
   "metadata": {},
   "source": [
    "#### 4. What are histograms, bar plots, scatterplots and pie charts used for?\n",
    "All these tools are used to learn more about data, its spread and distribution. Using it we can explore data and find more appropriate statistical test for a task.\n",
    "\n",
    "Bar plots are used when we compare quantity of objects for different categories in our data. From it we can see which categories are more common, and which are less.\n",
    "\n",
    "Pie chart can be used instead of bar plot if observed categories are subparts of the whole (all data divides into these categories(subgroups)). It's make it's more visible to understand what part of the whole data each subgroup contains.\n",
    "\n",
    "Histograms are alike bars, but not only for numeric values, but are more suitable for continuos. For example, we can use histogram to understand if data distrubuted close to normal distribution or not. It can be useful for finding appropriate statistic tests too.\n",
    "Let's do this for our data of weighted vote scores of russian and chinese reviews (we will need it for q1).\n"
   ]
  },
  {
   "cell_type": "code",
   "execution_count": 88,
   "id": "56852852",
   "metadata": {},
   "outputs": [
    {
     "data": {
      "image/png": "[encoded data removed]",
      "text/plain": [
       "<Figure size 720x360 with 2 Axes>"
      ]
     },
     "metadata": {
      "needs_background": "light"
     },
     "output_type": "display_data"
    }
   ],
   "source": [
    "# plot histogram\n",
    "import matplotlib.pyplot as plt\n",
    "fig, (ax1, ax2) = plt.subplots(1, 2)\n",
    "fig.set_size_inches(10, 5)\n",
    "fig.suptitle(\"Frequency histogram of weighted vote score\")\n",
    "ax1.hist(w_russ , bins=40, histtype='bar', ec='k') \n",
    "ax2.hist(w_ch, bins=40, histtype='bar', ec='k') \n",
    "ax1.set_xlabel(\"weighted vote score RUSSIAN\")\n",
    "ax2.set_xlabel(\"weighted vote score CHINESE\")\n",
    "plt.show()"
   ]
  },
  {
   "cell_type": "markdown",
   "id": "9484aa07",
   "metadata": {},
   "source": [
    "From this histograms we can suggest that data of weighted vote scores of russians and data of weighted vote scores of schinese distributed close to laplace distribution if we exclude all zero values. Let's exclude zero values from this two samples to be able to compare them better using histograms."
   ]
  },
  {
   "cell_type": "code",
   "execution_count": 90,
   "id": "360c2b6c",
   "metadata": {},
   "outputs": [
    {
     "data": {
      "image/png": "[encoded data removed]",
      "text/plain": [
       "<Figure size 1296x432 with 3 Axes>"
      ]
     },
     "metadata": {
      "needs_background": "light"
     },
     "output_type": "display_data"
    }
   ],
   "source": [
    "w_ch_1 = np.setdiff1d(w_ch,0)\n",
    "w_russ_1 = np.setdiff1d(w_russ,0)\n",
    "fig, (ax1, ax2, ax3) = plt.subplots(1, 3)\n",
    "fig.set_size_inches(18, 6)\n",
    "fig.suptitle(\"Frequency histogram of weighted vote score\")\n",
    "ax1.hist(w_russ_1 , bins=40, histtype='bar') \n",
    "ax2.hist(w_ch_1, bins=40, histtype='bar') \n",
    "ax3.hist(w_ch_1, bins=40, histtype='bar',alpha=0.5, label = \"chin\")\n",
    "ax3.hist(w_russ_1, bins=40, histtype='bar', alpha=0.5, label = 'russ')\n",
    "ax1.set_xlabel(\"WVS RUSSIAN\")\n",
    "ax2.set_xlabel(\"WVS CHINESE\")\n",
    "ax3.set_xlabel(\"WVS CHINESE vs RUSSIAN\")\n",
    "ax3.legend(loc='upper right')\n",
    "plt.show()"
   ]
  },
  {
   "cell_type": "markdown",
   "id": "8393c8b6",
   "metadata": {},
   "source": [
    "Now it looks like laplace distibuted samples"
   ]
  },
  {
   "cell_type": "markdown",
   "id": "0af4a2fd",
   "metadata": {},
   "source": [
    "#### 1.Is there a significant difference in the Weighted Vote Score of reviews made in Chinese vs the ones made in Russian? Use an appropriate statistical test or technique and support your choice. \n",
    "\n"
   ]
  },
  {
   "cell_type": "markdown",
   "id": "163a3eb7",
   "metadata": {},
   "source": [
    "As we see from histograms above non-zero values of both samples are close to laplace distribution."
   ]
  },
  {
   "cell_type": "code",
   "execution_count": 65,
   "id": "d9d57589",
   "metadata": {},
   "outputs": [
    {
     "name": "stdout",
     "output_type": "stream",
     "text": [
      "Chinese weighted score average: 0.15 +- 0.06 median: 0.0\n",
      "Russian weighted score average: 0.21 +- 0.07 median: 0.0\n",
      "Chinese weighted score average (non-zero): 0.58 +- 0.02 median: 0.54\n",
      "Russian weighted score average (non-zero): 0.54 +- 0.01 median: 0.54\n"
     ]
    }
   ],
   "source": [
    "#Let's compare means, median, and vars of two samples:\n",
    "print(\"Chinese weighted score average:\", round(np.mean(w_ch),2), \"+-\", round(np.var(w_ch), 2), \"median:\", round(np.median (w_ch), 2))\n",
    "print(\"Russian weighted score average:\", round(np.mean(w_russ),2), \"+-\", round(np.var(w_russ), 2), \"median:\", round(np.median (w_ch), 2))\n",
    "#And compare means, median, and vars of same two samples but without zero values:\n",
    "print(\"Chinese weighted score average (non-zero):\", round(np.mean(w_ch_1),2), \"+-\", round(np.var(w_ch_1), 2), \"median:\", round(np.median (w_ch_1), 2))\n",
    "print(\"Russian weighted score average (non-zero):\", round(np.mean(w_russ_1),2), \"+-\", round(np.var(w_russ_1), 2), \"median:\", round(np.median (w_ch_1), 2))\n"
   ]
  },
  {
   "cell_type": "markdown",
   "id": "380da0ab",
   "metadata": {},
   "source": [
    "As we see from above and from boxplot(quest5) mean of two samples are close to each other"
   ]
  },
  {
   "cell_type": "code",
   "execution_count": 77,
   "id": "d0f82317",
   "metadata": {},
   "outputs": [
    {
     "name": "stdout",
     "output_type": "stream",
     "text": [
      "Total number of chinese scores: 3764967 with 2727273 zero values and  1037694 non-zero values\n",
      "Total number of russ scores: 2348900 with 1380554 zero values and  968346 non-zero values\n"
     ]
    }
   ],
   "source": [
    "#As we see there are a lot of zero values in both samples, let's compare how much:\n",
    "print(\"Total number of chinese scores:\", len(w_ch), \"with\", (np.count_nonzero(w_ch==0)) , \"zero values\", \"and \", np.count_nonzero(w_ch!=0), \"non-zero values\")\n",
    "print(\"Total number of russ scores:\", len(w_russ), \"with\", (np.count_nonzero(w_russ==0)) , \"zero values\", \"and \", np.count_nonzero(w_russ!=0), \"non-zero values\") \n",
    "      "
   ]
  },
  {
   "cell_type": "markdown",
   "id": "3f2b40f2",
   "metadata": {},
   "source": [
    "We see that sample of chinese scores is larger than russ scores, but have appr two times more zero values. The number of non zero values in both samples are appr the same."
   ]
  },
  {
   "cell_type": "code",
   "execution_count": 79,
   "id": "46e1cd4b",
   "metadata": {},
   "outputs": [
    {
     "data": {
      "text/plain": [
       "MannwhitneyuResult(statistic=30987851217.0, pvalue=0.0)"
      ]
     },
     "execution_count": 79,
     "metadata": {},
     "output_type": "execute_result"
    }
   ],
   "source": [
    "#Interesting, but T-student independent test and Mannwhitney tests didn't wotk for this dataset, mb becouse of size of samples:\n",
    "stats.mannwhitneyu(x=w_ch_1[:968346], y=w_russ_1[:968346], alternative = 'two-sided')"
   ]
  },
  {
   "cell_type": "markdown",
   "id": "76069973",
   "metadata": {},
   "source": [
    "Conclusion: there are no significant difference in the Weighted Vote Score of reviews made in Chinese vs the ones made in Russian. For both russ and chin non-zero weighted scores appr have lapplace distribution"
   ]
  },
  {
   "cell_type": "markdown",
   "id": "c8a9da2b",
   "metadata": {},
   "source": [
    "#### 2. Can you find any significant relationship between the time that a user lets pass before he updates the review and the Weighted Vote Score? Use an appropriate statistical test or technique and support your choice."
   ]
  },
  {
   "cell_type": "code",
   "execution_count": null,
   "id": "5bd789ab",
   "metadata": {},
   "outputs": [],
   "source": [
    "import seaborn as sn\n",
    "data = {\"time diff\": (dataset[\"timestamp_updated\"] - dataset[\"timestamp_created\"]),\n",
    "\"wvs\": dataset[\"weighted_vote_score\"] }\n",
    "df = pd.DataFrame(data)"
   ]
  },
  {
   "cell_type": "markdown",
   "id": "28bc4ad0",
   "metadata": {},
   "source": [
    "Let's use scatter plot to understand relationship between two features"
   ]
  },
  {
   "cell_type": "code",
   "execution_count": 108,
   "id": "0320ee7c",
   "metadata": {},
   "outputs": [
    {
     "data": {
      "image/png": "[encoded data removed]",
      "text/plain": [
       "<Figure size 576x576 with 1 Axes>"
      ]
     },
     "metadata": {
      "needs_background": "light"
     },
     "output_type": "display_data"
    }
   ],
   "source": [
    "fig, ax = plt.subplots()\n",
    "\n",
    "ax.scatter(df[\"time diff\"], df[\"wvs\"],\n",
    "           c = 'blue')        \n",
    "ax.set_title('Scatter plot of wvs ant time diff')     \n",
    "fig.set_figwidth(8)     \n",
    "fig.set_figheight(8)    \n",
    "plt.show()"
   ]
  },
  {
   "cell_type": "markdown",
   "id": "145df79a",
   "metadata": {},
   "source": [
    "Let's see if time passed before update and wvs are correlated features"
   ]
  },
  {
   "cell_type": "code",
   "execution_count": 104,
   "id": "58f84a82",
   "metadata": {},
   "outputs": [
    {
     "data": {
      "image/png": "[encoded data removed]",
      "text/plain": [
       "<Figure size 432x288 with 2 Axes>"
      ]
     },
     "metadata": {
      "needs_background": "light"
     },
     "output_type": "display_data"
    }
   ],
   "source": [
    "#Correlation matrix\n",
    "corrMatrix = df.corr()\n",
    "sn.heatmap(corrMatrix, annot=True)\n",
    "plt.show()"
   ]
  },
  {
   "cell_type": "markdown",
   "id": "3d14dadb",
   "metadata": {},
   "source": [
    "Let's also use Pearson test to check correlation"
   ]
  },
  {
   "cell_type": "code",
   "execution_count": 113,
   "id": "efa96fe3",
   "metadata": {},
   "outputs": [
    {
     "data": {
      "text/plain": [
       "(0.06085355369766621, 0.05438786503592002)"
      ]
     },
     "execution_count": 113,
     "metadata": {},
     "output_type": "execute_result"
    }
   ],
   "source": [
    "import scipy.stats\n",
    "scipy.stats.pearsonr(df[\"time diff\"][:1000], df[\"wvs\"][:1000]) "
   ]
  },
  {
   "cell_type": "markdown",
   "id": "d92bb0d5",
   "metadata": {},
   "source": [
    "Here we see that pvalue is small, and absolute of correlation coeff are very close to zero. So we can come to the conclusion that there is no significant relationship between time and wvs."
   ]
  },
  {
   "cell_type": "markdown",
   "id": "7f3bc34c-402a-48c8-a693-c8184af864db",
   "metadata": {},
   "source": [
    "### Bonus points\n",
    "For this homework, you are required to work with all data in the steam_reviews.csv. An extension (two files) of the dataset is available in the next links:\n",
    "\n",
    "a. File 1 to be downloaded from https://sapienza2021adm.s3.eu-south-1.amazonaws.com/steam_reviews_bonus_1.zip.\n",
    "\n",
    "b. File 2 to be downloaded from https://sapienza2021adm.s3.eu-south-1.amazonaws.com/steam_reviews_bonus_2.zip.\n",
    "\n",
    "It is not necessary to use the extension for this homework, however, if you decide to use it, we will take it into account in the final evaluation. In summary, to get the bonus points you are required to work with [steam_reviews.csv + two files of extension] all together."
   ]
  },
  {
   "cell_type": "code",
   "execution_count": null,
   "id": "945b85c8",
   "metadata": {},
   "outputs": [],
   "source": []
  },
  {
   "cell_type": "code",
   "execution_count": null,
   "id": "f7075a30-67c6-4b4b-9212-a3e9289a2671",
   "metadata": {},
   "outputs": [],
   "source": []
  },
  {
   "cell_type": "markdown",
   "id": "09adceac-39c7-4c44-8ca8-d6493646b983",
   "metadata": {},
   "source": [
    "# Theoretical Questions"
   ]
  },
  {
   "cell_type": "markdown",
   "id": "ee472e81-7671-4174-8a51-769d7586ab37",
   "metadata": {},
   "source": [
    "### [TQ1] We are given the following algorithm.\n",
    "\n",
    "        Input:\n",
    "            A: array of length n\n",
    "            k: integers between 1 and n\n",
    "\n",
    "        function alg(A, k):\n",
    "          s <-- a random element of A\n",
    "          set L = [all the elements of A with value <= s]\n",
    "          set R = [all the elements of A with value > s]\n",
    "          r = len(L)\n",
    "          if k == r:\n",
    "            return s\n",
    "          else if k < r:  \n",
    "            return alg(L, k)\n",
    "          else:\n",
    "            return alg(R, k - r) \n",
    "\n",
    "    \n",
    "1. What does the algorithm compute?\n",
    "2. What is asymptotically (i.e., we are asking for big-O complexity) the running time of the algorithm in the worst case, as a function of n?\n",
    "3. What is asymptotically the running time of the algorithm in the best case?"
   ]
  },
  {
   "cell_type": "markdown",
   "id": "fe10f32d-603e-4b54-800c-b95c095e3359",
   "metadata": {
    "id": "91512b50-6372-45d7-b21a-e0c44b3ddc88"
   },
   "source": [
    "#### 1. What does the algorithm compute?"
   ]
  },
  {
   "cell_type": "markdown",
   "id": "6e0055d7",
   "metadata": {},
   "source": [
    "This is a recursive algorithm. Takes as input an array $A$ (length $n$) and an integer $k$ ($0\\leq k\\leq n$). This algorithm returns $s$, that is the number that tells us that the number of elements in the array is $k$ (which corresponds at the maximum at $s$) "
   ]
  },
  {
   "cell_type": "markdown",
   "id": "232ac6f2-a63d-488e-9556-c70593d9caae",
   "metadata": {},
   "source": [
    "#### 2. What is asymptotically (i.e., we are asking for big-O complexity) the running time of the algorithm in the worst case, as a function of n?"
   ]
  },
  {
   "cell_type": "markdown",
   "id": "35c4ef31-f6e5-4e4f-ad44-c4e63729f90a",
   "metadata": {
    "id": "80cdad7c-4af4-4b0c-ade0-a206c2e029bc"
   },
   "source": [
    "In the worst case the length of the array decreases by one each time the function is called (by itself) and so the function is runned $n$ times: $T(n)=\\sum_{i=1}^n (a_i+b) = a \\frac {n(n+1)}{2}+nb$\n",
    "\n",
    "#### Answer: At worst the running time of the algorithm is $O(n^2)$ "
   ]
  },
  {
   "cell_type": "markdown",
   "id": "c3487704-ab18-40e0-b8d9-aa01d62e3201",
   "metadata": {},
   "source": [
    "#### 3. What is asymptotically the running time of the algorithm in the best case?"
   ]
  },
  {
   "cell_type": "markdown",
   "id": "955ad901-0215-42d7-bd57-bbebe75c4d3c",
   "metadata": {},
   "source": [
    "In the best case (at the first iteration the number of elements of the array $L$ is equal to $k$), the running time is in the order of $n$.\n",
    "#### Answer: At best the running time of the algorithm is $\\omega(n)$ "
   ]
  },
  {
   "cell_type": "markdown",
   "id": "020f3859-a95f-47bb-8744-51ed3fa7a533",
   "metadata": {},
   "source": [
    "### [TQ2] You are given the recursive function splitSwap, which accepts an array a, an index i, and a length n.\n",
    "\n",
    "        function splitSwap(a, l, n):\n",
    "          if n <= 1:\n",
    "            return\n",
    "          splitSwap(a, l, n/2)\n",
    "          splitSwap(a, l+ n /2, n/2)\n",
    "          swapList(a, l, n)\n",
    "##### The subroutine swapList is described here:\n",
    "\n",
    "        function swapList(a, l, n):\n",
    "          for i = 0 to n/2:\n",
    "            tmp = a[l + i]\n",
    "            a[l + i] = a[l + n/2 + i]\n",
    "            a[l + n/2 + i] = tmp\n",
    "1. How much running time does it take to execute splitSwap(a, 0, n)? (We want a Big O analysis.)\n",
    "2. What does this algorithm do? Is it optimal? Describe the mechanism of the algorithm in details, we do not want to know only its final result.\n",
    "\n",
    "HINT: Consider the scenario where len(a) and n are numbers that are a power of 2."
   ]
  },
  {
   "cell_type": "code",
   "execution_count": null,
   "id": "a413ce0f-d52f-4485-8f1f-a09e3e5e3a67",
   "metadata": {},
   "outputs": [],
   "source": []
  },
  {
   "cell_type": "markdown",
   "id": "9f940428-c8e0-4132-a97b-d5ae59206da3",
   "metadata": {
    "id": "af5d84e7-d76c-464c-af3b-059364798030"
   },
   "source": [
    "#### 1.How much running time does it take to execute splitSwap(a, 0, n)? (We want a Big O analysis.)\n",
    "Lets T(n) be a complexity of splitSwap (it does not depen of l and l as  swapList doesn't depend on it). Complexity of swapList is O(n), as it makes three constatant time operations n/2 times.\n",
    "Let's consider $n = 2^k$.\n",
    "Complexity of splitSwap:\n",
    "$$T(2^k) = T(2^{k-1})+T(2^{k-1})+ O(2^k) = O(2^k) + 4*T(2^{k-2})+ 2*O(2^{k-1})= \\underbrace{\\sum_{t=1}^{i-1} 2^{t-1}*O(2^{k-\n",
    "t+1})}_{\\text{adds from previos layers}} + 2^{i}*T(2^{k-i}) + 2^{i-1}*O(2^{k-i+1}),$$ for $1 < i<= k$\n",
    "For i = k:\n",
    "$$T(2^k) = \\sum_{t=1}^{k-1} 2^{t-1}*O(2^{k-t+1}) + 2^{k}*\\underbrace{T(2^{k-k})}_{T(2) = O(1)} + 2^{k-1}*O(2^{k-k+1}) =   \\sum_{t=1}^{k} 2^{t-1}*O(2^{k-t+1}) + O(2^k)  = \\sum_{t=1}^{k} O(2^k) + O(2^k) = O((k+1)*2^k) = O(\\log n *n)$$\n",
    "#### Answer: Complexity is $O(\\log n * n)$"
   ]
  },
  {
   "cell_type": "markdown",
   "id": "4fe7cbf9-1fab-4083-9aea-747a893bd59d",
   "metadata": {},
   "source": [
    "#### 2.What does this algorithm do? Is it optimal? Describe the mechanism of the algorithm in details, we do not want to know only its final result."
   ]
  },
  {
   "cell_type": "markdown",
   "id": "836e138b-be33-426f-8aec-8dd1a792b408",
   "metadata": {},
   "source": [
    "##### Answer: What does this algorithm do? SplitSwap(a, l, n) - inverse order of elements (from lth to (l+nth)) of massive a. To do this he uses function swaplist(a, l, n) - its swap $[l, l+n/2) and [l+n/2, l+n)$ and recursion cals. The algorithm receive an original array n and then:\n",
    "1. inverse order of elements of the first half of array (to this it repeats steps 1,2,3 for half of an array, e.t.c)\n",
    "2. inverse order of elements of  the 2nd half of array (to this it repeats steps 1,2,3 for half of an array, e.t.c)\n",
    "3. Use swaplist to swap first half with the second array\n",
    "\n",
    "So the output is the inversed array (for splitSwap(a, 0, n)).\n",
    "\n",
    "#### Is it optimal?  No, as this algoritm is $O(\\log n * n)$, but we can do it in O(n):"
   ]
  },
  {
   "cell_type": "code",
   "execution_count": 19,
   "id": "0fc0a7a2-6f84-4bb2-94d8-8b5e99c9890d",
   "metadata": {},
   "outputs": [],
   "source": [
    "#more optimal function with O(n) complexity\n",
    "\n",
    "def splitSwap_optimal(a, l, n):\n",
    "    for i in range(int(n/2)):\n",
    "            tmp = a[l+i]\n",
    "            a[l+i] = a[l+n-i-1]\n",
    "            a[l+n-i-1] = tmp\n",
    "    return a"
   ]
  },
  {
   "cell_type": "code",
   "execution_count": 20,
   "id": "76541b32-e5c4-4520-a372-036436b84d61",
   "metadata": {},
   "outputs": [],
   "source": [
    "#original function\n",
    "def splitSwap(a, l, n):\n",
    "    if n <= 1:\n",
    "        return \n",
    "    splitSwap(a, l, n/2)\n",
    "    splitSwap(a, l+ n /2, n/2)\n",
    "    swapList(a, l, n)\n",
    "    return a\n",
    "def swapList(a, l, n):\n",
    "    for i in range(0,int(n/2)):\n",
    "        tmp = a[int(l + i)]\n",
    "        a[int(l + i)] = a[int(l + n/2 + i)]\n",
    "        a[int(l + n/2 + i)] = tmp\n",
    "    return a"
   ]
  },
  {
   "cell_type": "markdown",
   "id": "b197503a-43e7-415e-930c-cb56ba68b94d",
   "metadata": {},
   "source": [
    "### [TQ3] In the knapsack problem we are given n objects and each object i has a weight w_i and a value v_i. We are also given a weight budget W. The problem is to select a set of objects with total weight bounded by W that maximized the sum of their values. The following are three natural heuristics:\n",
    "\n",
    "1. Order them in increasing order of weight and then visit them sequentially, adding them to the solution as long as the budget is not exceeded\n",
    "2. Order them in decreasing order of values, and then visit them sequentially, adding them to the solution if the budget is not exceeded\n",
    "3. Order them in decreasing relative value (v_i / w_i), and then visit them sequentially, adding them to the solution if the budget is not exceeded\n",
    "4. For each of the heuristics, provide a counterexample, that is, an example of a problem instance in which the heuristic fails to provide the optimal solution."
   ]
  },
  {
   "cell_type": "code",
   "execution_count": null,
   "id": "030b68ba-ccbc-4ee8-ba97-77c13c464f48",
   "metadata": {},
   "outputs": [],
   "source": [
    "''' Given that:\n",
    "        Sack weight = W\n",
    "        total objects = n\n",
    "        value = v\n",
    "        weight = w\n",
    "        "
   ]
  },
  {
   "cell_type": "markdown",
   "id": "eae8283c",
   "metadata": {},
   "source": [
    "#### 1. Order them in increasing order of weight and then visit them sequentially, adding them to the solution as long as the budget is not exceeded"
   ]
  },
  {
   "cell_type": "markdown",
   "id": "c4771fa6",
   "metadata": {},
   "source": [
    "#Maximizing weights\n",
    "\n",
    "        p = 0\n",
    "    #sort objects in increasing order \n",
    "    #Checking for total objects according to weights [less the weight, more the objects]\n",
    "\n",
    "        for i=1 to n:\n",
    "            if W > 0 and wi < W:\n",
    "                W = W - wi\n",
    "                p + = vi\n",
    "            elif W > 0:\n",
    "                p += (W - wi)*vi/wi    \n",
    "            else:\n",
    "                break"
   ]
  },
  {
   "cell_type": "markdown",
   "id": "56370d1c",
   "metadata": {},
   "source": [
    "#### 2. Order them in decreasing order of values, and then visit them sequentially, adding them to the solution if the budget is not exceeded"
   ]
  },
  {
   "cell_type": "markdown",
   "id": "fb17d374",
   "metadata": {},
   "source": [
    "#Maximizing values\n",
    "\n",
    "            p = 0\n",
    "        #sort values in decreasing order \n",
    "        #Checking for total objects according to values\n",
    "        \n",
    "            for i=1 to n:\n",
    "                if W > 0 and wi < W:\n",
    "                    W = W - wi\n",
    "                    p + = vi\n",
    "                elif W > 0:\n",
    "                    p += (W - wi)*vi/wi\n",
    "                else:\n",
    "                    break"
   ]
  },
  {
   "cell_type": "markdown",
   "id": "277cea19",
   "metadata": {},
   "source": [
    "#### 3. Order them in decreasing relative value (v_i / w_i), and then visit them sequentially, adding them to the solution if the budget is not exceeded"
   ]
  },
  {
   "cell_type": "markdown",
   "id": "2d8db0f0",
   "metadata": {},
   "source": [
    "#Maximizing profit\n",
    "\n",
    "            for i=1 to n:\n",
    "                p = vi/wi    #taking profit for each object\n",
    "                \n",
    "        #sort objects in decreasing order of profit\n",
    "        #checking for Maximized profit\n",
    "        \n",
    "            for i=1 to n:\n",
    "                if W > 0 and wi < W:\n",
    "                    W = W - wi\n",
    "                    p += pi\n",
    "                elif W > 0:\n",
    "                    p += pi*W/wi      \n",
    "                else:\n",
    "                    break"
   ]
  },
  {
   "cell_type": "markdown",
   "id": "92117b26",
   "metadata": {},
   "source": [
    "#### 4. For each of the heuristics, provide a counterexample, that is, an example of a problem instance in which the heuristic fails to provide the optimal solution."
   ]
  },
  {
   "cell_type": "markdown",
   "id": "22fa3c12",
   "metadata": {},
   "source": [
    "Lets take an example for Knapsack Problem:\n",
    "\n",
    "    Sack Weight = 20\n",
    "    \n",
    "    Objects       | Obj1    Obj2    Obj3\n",
    "    --------------|----------------------\n",
    "    Weights       |  18       15      10\n",
    "    Values        |  25       24      15\n",
    "    Profits (v/w) |  1.3      1.6     1.5"
   ]
  },
  {
   "cell_type": "markdown",
   "id": "11d148f8",
   "metadata": {},
   "source": [
    "##### Case1:\n",
    "        If we calculate with the above pseudocode, then we will get the total profit as 31:\n",
    "        \n",
    "        1. We will order it according to the increasing order of the weight, that means we will first take obj3, then obj2 and lastly obj1.\n",
    "        2. obj3 will fill the half bag, now we will take obj2, but obj2 weight is 15 and we have only left 10. So, we will take some percent of obj2 and put it into sack.\n",
    "        3. Hence the profit will be 31\n",
    "           \n",
    "    It fails to provide the optimal solution as we are only considering the weight of the object, but we actually want the profit to be maximized to get the optimal solution.\n",
    "    "
   ]
  },
  {
   "cell_type": "markdown",
   "id": "a91f5b35",
   "metadata": {},
   "source": [
    "##### Case 2:\n",
    "        \n",
    "        If we calculate with the above pseudocode, then we will get the total profit as 28.2:\n",
    "    \n",
    "        1. We will order it according to the decreasing order of the value of object, that means we will first take obj1, then obj2 and lastly obj3.\n",
    "        2. obj1 will almost fill the bag, now we will take obj2, but obj2 weight is 15 and we have only left 2. So, we will take some percent of obj2 and put it into sack\n",
    "        3. Hence the profit will be 28.2\n",
    "        \n",
    "    It falis to provide the optimal solution as we are only focusing on the value of the object, neglecting the aspect that is that value for money or not. Hence, the profit will not provide the optimal solution."
   ]
  },
  {
   "cell_type": "markdown",
   "id": "fb3c4877",
   "metadata": {},
   "source": [
    "##### Case 3:\n",
    "\n",
    "        If we calculate with the above pseudocode, then we will get the total profit as 31.5:\n",
    "\n",
    "        1. We will calculate the profits according to vi/wi.\n",
    "        2. Now, we will put the objects with maximum profits into the sack.\n",
    "        3. Since the obj2 is more value for money than others, hence, we will consider obj2 and put it in the sack.\n",
    "        4. Now, the sack is almost full and we have a space for 5. We will consider the 2nd value for money 'obj3', and put a portion of it in the bag, since the weight of the ojectect is more than the space left in sack.\n",
    "        5. Finally, the profit will be 31.5\n",
    "    \n",
    "    I contradict the point that it will not give the optimal solution as optimal solution is considered as the value for money.\n",
    "    \n",
    "    For example, we want to buy a vegetable and we have options to buy it from street vendors and supermarket.\n",
    "        Both of them are providing same quality, but the price at street is much less than the price in supermarket.\n",
    "        So, to get the optimal buy would be considered as buying the vegetable from street rather than supermarket."
   ]
  },
  {
   "cell_type": "code",
   "execution_count": null,
   "id": "2a592e5c",
   "metadata": {},
   "outputs": [],
   "source": []
  }
 ],
 "metadata": {
  "kernelspec": {
   "display_name": "Python 3 (ipykernel)",
   "language": "python",
   "name": "python3"
  },
  "language_info": {
   "codemirror_mode": {
    "name": "ipython",
    "version": 3
   },
   "file_extension": ".py",
   "mimetype": "text/x-python",
   "name": "python",
   "nbconvert_exporter": "python",
   "pygments_lexer": "ipython3",
   "version": "3.9.7"
  }
 },
 "nbformat": 4,
 "nbformat_minor": 5
}
